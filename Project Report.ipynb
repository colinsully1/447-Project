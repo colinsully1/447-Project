{
 "cells": [
  {
   "cell_type": "markdown",
   "metadata": {},
   "source": [
    "# For many people in the United States, their actual Internet speed is slower than what their Internet Service Provider advertises. The Internet service providers (ISPs) specify that the connection will be “up to” a certain speed because they can’t guarantee a dedicated connection. However, some people rely on having a strong connection for their jobs or for school where almost all assignments are turned in online, so it is very important for them to have the speed they pay for.  Also, internet today is as important as cable and much more important than having a landline for most homes, making it more like a utility instead of just a luxury service. \n"
   ]
  },
  {
   "cell_type": "code",
   "execution_count": null,
   "metadata": {
    "collapsed": true
   },
   "outputs": [],
   "source": []
  },
  {
   "cell_type": "code",
   "execution_count": null,
   "metadata": {
    "collapsed": true
   },
   "outputs": [],
   "source": [
    "import pandas as pd\n",
    "import numpy as np\n",
    "import plotnine as p9"
   ]
  },
  {
   "cell_type": "code",
   "execution_count": null,
   "metadata": {
    "collapsed": true
   },
   "outputs": [],
   "source": [
    "maryland = pd.read_csv(\"MD_advertised.csv\")\n",
    "download = pd.read_csv(\"MD_down_county.csv\")\n",
    "upload = pd.read_csv(\"MD_up_county.csv\")\n",
    "nation = pd.read_csv(\"Nationwide Averages.csv\")\n",
    "county_advertised = pd.read_csv(\"county_advertised.csv\")"
   ]
  },
  {
   "cell_type": "code",
   "execution_count": null,
   "metadata": {
    "collapsed": true
   },
   "outputs": [],
   "source": [
    "advertised = maryland[['DBAName', 'MaxAdDown', 'MaxAdUp']].groupby(['DBAName']).agg(['mean'])"
   ]
  },
  {
   "cell_type": "code",
   "execution_count": null,
   "metadata": {
    "collapsed": true
   },
   "outputs": [],
   "source": [
    "county_data= pd.merge(download, upload[['Min_Upload', 'Max_Upload', 'Ave_Upload', 'C0_NAME']], on='C0_NAME') \n",
    "\n",
    "county_data.drop(['SHAPEarea','SHAPElen'], axis=1)"
   ]
  },
  {
   "cell_type": "code",
   "execution_count": null,
   "metadata": {
    "collapsed": true
   },
   "outputs": [],
   "source": [
    "(p9.ggplot(county_data) +\n",
    "    p9.aes(x = 'Ave_Download', y = 'Ave_Upload', fill = 'C0_NAME') +\n",
    "    p9.geom_point(size = 3) + \n",
    "    p9.geom_text(p9.aes(label='C0_NAME'),size = 7) + \n",
    "    p9.ggtitle('Relationship between download and upload speed') +\n",
    "    p9.ylab('Average Upload Speed (in Kilobytes)') +\n",
    "    p9.xlab('Average Download Speed (in Kilobytes)'))"
   ]
  },
  {
   "cell_type": "code",
   "execution_count": null,
   "metadata": {
    "collapsed": true
   },
   "outputs": [],
   "source": [
    "county_advertised_scrape=pd.DataFrame({'county':['Montgomery', \"Prince George's\", 'Carroll', 'Talbot'], 'ADV_AVG_UP':[mont_up, pg_up, carroll_up, talbot_up], 'ADV_AVG_DOWN':[mont_down, pg_down, carroll_down, talbot_down]})\n",
    "county_advertised_scrape"
   ]
  },
  {
   "cell_type": "code",
   "execution_count": null,
   "metadata": {
    "collapsed": true
   },
   "outputs": [],
   "source": [
    "limited_counties= limited_counties.drop([0,1,2,3,4,5, 7,8,9,10,11,12, 13, 14, 17, 18, 19,21, 22,23])\n",
    "limited_counties=limited_counties.reset_index(drop=True)\n",
    "limited_counties\n",
    "merged_counties=limited_counties.merge(county_advertised_scrape, left_on='C0_NAME', right_on='county', how='inner')"
   ]
  },
  {
   "cell_type": "code",
   "execution_count": null,
   "metadata": {
    "collapsed": true
   },
   "outputs": [],
   "source": [
    "merged_counties.plot.bar(x='C0_NAME', y=['Ave_Download', 'ADV_AVG_DOWN'])"
   ]
  },
  {
   "cell_type": "code",
   "execution_count": 1,
   "metadata": {
    "collapsed": true
   },
   "outputs": [],
   "source": [
    "merged_counties.plot.bar(x='C0_NAME', y=['Ave_Upload', 'ADV_AVG_UP'])"
   ]
  },
  {
   "cell_type": "code",
   "execution_count": null,
   "metadata": {
    "collapsed": true
   },
   "outputs": [],
   "source": []
  },
  {
   "cell_type": "code",
   "execution_count": null,
   "metadata": {
    "collapsed": true
   },
   "outputs": [],
   "source": []
  },
  {
   "cell_type": "code",
   "execution_count": null,
   "metadata": {
    "collapsed": true
   },
   "outputs": [],
   "source": [
    "#  Data comes from: \n",
    "#  https://www.fcc.gov/general/broadband-deployment-data-fcc-form-477\n",
    "#  https://www.fcc.gov/reports-research/reports/measuring-broadband-america/charts-measuring-broadband-america-2016"
   ]
  }
 ],
 "metadata": {
  "kernelspec": {
   "display_name": "Python [default]",
   "language": "python",
   "name": "python3"
  },
  "language_info": {
   "codemirror_mode": {
    "name": "ipython",
    "version": 3
   },
   "file_extension": ".py",
   "mimetype": "text/x-python",
   "name": "python",
   "nbconvert_exporter": "python",
   "pygments_lexer": "ipython3",
   "version": "3.5.2"
  }
 },
 "nbformat": 4,
 "nbformat_minor": 1
}
