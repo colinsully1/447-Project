{
 "cells": [
  {
   "cell_type": "markdown",
   "metadata": {},
   "source": [
    "# For many people in the United States, their actual Internet speed is slower than what their Internet Service Provider advertises. The Internet service providers (ISPs) specify that the connection will be “up to” a certain speed because they can’t guarantee a dedicated connection. However, some people rely on having a strong connection for their jobs or for school where almost all assignments are turned in online, so it is very important for them to have the speed they pay for.  Also, internet today is as important as cable and much more important than having a landline for most homes, making it more like a utility instead of just a luxury service. \n"
   ]
  },
  {
   "cell_type": "code",
   "execution_count": null,
   "metadata": {
    "collapsed": true
   },
   "outputs": [],
   "source": []
  },
  {
   "cell_type": "code",
   "execution_count": null,
   "metadata": {
    "collapsed": true
   },
   "outputs": [],
   "source": [
    "import pandas as pd\n",
    "import numpy as np\n",
    "import plotnine as p9"
   ]
  },
  {
   "cell_type": "code",
   "execution_count": null,
   "metadata": {
    "collapsed": true
   },
   "outputs": [],
   "source": [
    "maryland = pd.read_csv(\"MD_advertised.csv\")\n",
    "download = pd.read_csv(\"MD_down_county.csv\")\n",
    "upload = pd.read_csv(\"MD_up_county.csv\")\n",
    "nation = pd.read_csv(\"Nationwide Averages.csv\")\n",
    "county_advertised = pd.read_csv(\"county_advertised.csv\")"
   ]
  },
  {
   "cell_type": "code",
   "execution_count": null,
   "metadata": {
    "collapsed": true
   },
   "outputs": [],
   "source": [
    "advertised = maryland[['DBAName', 'MaxAdDown', 'MaxAdUp']].groupby(['DBAName']).agg(['mean'])"
   ]
  },
  {
   "cell_type": "code",
   "execution_count": null,
   "metadata": {
    "collapsed": true
   },
   "outputs": [],
   "source": [
    "county_data= pd.merge(download, upload[['Min_Upload', 'Max_Upload', 'Ave_Upload', 'C0_NAME']], on='C0_NAME') \n",
    "\n",
    "county_data.drop(['SHAPEarea','SHAPElen'], axis=1)"
   ]
  },
  {
   "cell_type": "code",
   "execution_count": null,
   "metadata": {
    "collapsed": true
   },
   "outputs": [],
   "source": [
    "(p9.ggplot(county_data) +\n",
    "    p9.aes(x = 'Ave_Download', y = 'Ave_Upload', fill = 'C0_NAME') +\n",
    "    p9.geom_point(size = 3) + \n",
    "    p9.geom_text(p9.aes(label='C0_NAME'),size = 7) + \n",
    "    p9.ggtitle('Relationship between download and upload speed') +\n",
    "    p9.ylab('Average Upload Speed (in Kilobytes)') +\n",
    "    p9.xlab('Average Download Speed (in Kilobytes)'))"
   ]
  },
  {
   "cell_type": "code",
   "execution_count": null,
   "metadata": {
    "collapsed": true
   },
   "outputs": [],
   "source": [
    "county_advertised_scrape=pd.DataFrame({'county':['Montgomery', \"Prince George's\", 'Carroll', 'Talbot'], 'ADV_AVG_UP':[mont_up, pg_up, carroll_up, talbot_up], 'ADV_AVG_DOWN':[mont_down, pg_down, carroll_down, talbot_down]})\n",
    "county_advertised_scrape"
   ]
  },
  {
   "cell_type": "code",
   "execution_count": null,
   "metadata": {
    "collapsed": true
   },
   "outputs": [],
   "source": [
    "limited_counties= limited_counties.drop([0,1,2,3,4,5, 7,8,9,10,11,12, 13, 14, 17, 18, 19,21, 22,23])\n",
    "limited_counties=limited_counties.reset_index(drop=True)\n",
    "limited_counties\n",
    "merged_counties=limited_counties.merge(county_advertised_scrape, left_on='C0_NAME', right_on='county', how='inner')"
   ]
  },
  {
   "cell_type": "code",
   "execution_count": null,
   "metadata": {
    "collapsed": true
   },
   "outputs": [],
   "source": [
    "merged_counties.plot.bar(x='C0_NAME', y=['Ave_Download', 'ADV_AVG_DOWN'])"
   ]
  },
  {
   "cell_type": "code",
   "execution_count": 1,
   "metadata": {
    "collapsed": true
   },
   "outputs": [],
   "source": [
    "merged_counties.plot.bar(x='C0_NAME', y=['Ave_Upload', 'ADV_AVG_UP'])"
   ]
  },
  {
   "cell_type": "code",
   "execution_count": null,
   "metadata": {
    "collapsed": true
   },
   "outputs": [],
   "source": []
  },
  {
   "cell_type": "markdown",
   "metadata": {
    "collapsed": true
   },
   "source": [
    "  FINDINGS\n",
    "  \n",
    "  What we found was that there is a significant difference between the speeds that Internet Service Providers advertise and the speeds that their customers actually receive. On average, the speeds across Maryland were about 60 percent slower than what the average advertised speed was. We also found that advertised speeds were also skewed due to many areas offering a gigabit connection, but very few people would utilize these companies. Another interesting finding from this research is that more rural areas would have a slower download and upload speed than more heavily populated areas. Areas such as Prince George’s and Montgomery County were found to have faster speeds than places such as Talbot and Queen Anne’s County. We attributed this speed difference to the difference in population density. Prince George’s and Montgomery County both have a much higher population density than that of Talbot and Queen Anne’s. Due to people to being so spread out in the more rural counties and less reliant on internet than those in the city ISPs may be less inclined to offer a fast internet connection. \n",
    "\t\n",
    "   The average speed across Maryland was 10.3 megabits per second and 3.1 megabits per second for download and upload speeds respectively. For comparison, the average advertised speed across Maryland was 56.6 megabits per second and 30.2 megabits per second for download and upload speeds respectively. Looking at the differences in counties we found that Prince George’s, Montgomery, Baltimore, Anne Arundle, and Howard County are the top five counties in Maryland with the highest average download and upload speeds. This is not surprising considering these are the most heavily populated areas in Maryland. \n"
   ]
  },
  {
   "cell_type": "code",
   "execution_count": null,
   "metadata": {
    "collapsed": true
   },
   "outputs": [],
   "source": [
    "#  Data comes from: \n",
    "#  https://www.fcc.gov/general/broadband-deployment-data-fcc-form-477\n",
    "#  https://www.fcc.gov/reports-research/reports/measuring-broadband-america/charts-measuring-broadband-america-2016"
   ]
  }
 ],
 "metadata": {
  "kernelspec": {
   "display_name": "Python 3",
   "language": "python",
   "name": "python3"
  },
  "language_info": {
   "codemirror_mode": {
    "name": "ipython",
    "version": 3
   },
   "file_extension": ".py",
   "mimetype": "text/x-python",
   "name": "python",
   "nbconvert_exporter": "python",
   "pygments_lexer": "ipython3",
   "version": "3.6.5"
  }
 },
 "nbformat": 4,
 "nbformat_minor": 1
}
