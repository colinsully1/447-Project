{
 "cells": [
  {
   "cell_type": "markdown",
   "metadata": {},
   "source": [
    "# Internet Speeds"
   ]
  },
  {
   "cell_type": "markdown",
   "metadata": {},
   "source": [
    "## By: Brady Grundy, Dedrick Settles, Colin Sullivan, Daniel Lee"
   ]
  },
  {
   "cell_type": "markdown",
   "metadata": {},
   "source": [
    "# Research Question:"
   ]
  },
  {
   "cell_type": "markdown",
   "metadata": {},
   "source": [
    "## Do advertised internet speeds match actual internet speeds in the state of Maryland?"
   ]
  },
  {
   "cell_type": "markdown",
   "metadata": {},
   "source": [
    "# Internet Speed"
   ]
  },
  {
   "cell_type": "markdown",
   "metadata": {},
   "source": [
    "For many people in the United States, a stable and fast internet connection is becoming more of a necessity than a luxury. In a workplace, faster internet times means higher employee productivity and general consumer stability. Also, the US is seeing a rise in remote employees, or those that complete their work assignments from home. Having a stable internet speed is especially crucial for those that work remotely, because it is the only way they can transfer and receive data and, overall, be productive for their company. Students are also a demographic that heavily rely on stable and fast internet connections. Increasingly more homework assignments, exams, and projects can only be completed via the Internet. "
   ]
  },
  {
   "cell_type": "markdown",
   "metadata": {},
   "source": [
    "# Internet Service Providers (ISP) "
   ]
  },
  {
   "cell_type": "markdown",
   "metadata": {},
   "source": [
    "However, not everyone needs a strong internet connection. There are many people content with the minimum internet speeds that an ISP provides, which is why ISPs offer different selections of speeds and bandwidth amounts for their consumers. ISP’s provide telecommunication services including data communications access and telephone connection. They provide different plans for their customers, typically ranging from 15Mbps (megabits per second) to 1000Mbps. Bandwidth is a term that refers to the amount of data that can be transmitted over a network in a given amount of time. The data is measured in bits per second and download speeds are typically measured in megabytes (1 Mb = 8 megabits). This means that at a 1 megabit/s connection, 1 MB will take 8 seconds to download. In a more literal example, “The Dark Knight” is 1.7 gigabytes, which would take around 3.77 hours to download at 1 megabit/s. "
   ]
  },
  {
   "cell_type": "markdown",
   "metadata": {},
   "source": [
    "# What it means for our research"
   ]
  },
  {
   "cell_type": "markdown",
   "metadata": {},
   "source": [
    "For many people in the United States, their actual Internet speed is slower than what their Internet Service Provider advertises. The Internet service providers (ISPs) specify that the connection will be “up to” a certain speed because they can’t guarantee a dedicated connection. However, some people rely on having a strong connection for their jobs or for school where almost all assignments are turned in online, so it is very important for them to have the speed they pay for.  Also, internet today is as important as cable and much more important than having a landline for most homes, making it more like a utility instead of just a luxury service. \n"
   ]
  },
  {
   "cell_type": "markdown",
   "metadata": {},
   "source": [
    "# Description of Data"
   ]
  },
  {
   "cell_type": "markdown",
   "metadata": {
    "collapsed": true
   },
   "source": [
    "   The data that we used came from many different sources.  The first source that we used was the FCC form 477.  The form 477 contains all data from all of the US States broadband providers about the speeds they advertise for their customers.  We chose to use the June 2017 data for the state of Maryland which contained all data from 2016 as well.  All data here was for only fixed broadband installations in Maryland but the satellite information is available.  The data is available here: https://www.fcc.gov/general/broadband-deployment-data-fcc-form-477\n",
    "\n",
    "   The next dataset that we used was the FCC measuring broadband America report from 2016.  This data included some visualizations of their data but we only used it for the median upload speed, and median download speeds in all of America.  This data can be found here: https://www.fcc.gov/reports-research/reports/measuring-broadband-america/charts-measuring-broadband-america-2016\n",
    "\n",
    "   For finding the Maryland actual internet speed data we looked to the state of Maryland and their Maryland GIS data catalog.  Maryland had a catalog of speed tests ran by residents in all of the counties in Maryland.  This dataset was released in February of 2018, while there is no information that we could find of when exactly the speed tests were collected.  The data was not as individual speed tests but pre aggregated broken down into counties, averaging the speed of the tests and noting how many tests in another column.  Upload speed and download speed were broken into two different datasets but the number of tests in each dataset matched so we count them as one together.  The datasets can be found here: http://data.imap.maryland.gov/datasets/maryland-broadband-speed-test-county-download and http://data.imap.maryland.gov/datasets/36a5ea158ab54401ad605c0a8377708a_4 \n",
    "\n",
    "   The final dataset we used was to find the advertised county speeds.  We did not find a dataset online for this so we created it ourselves.  The data we created we manually pulled from broadbandnow.com.  We chose to focus on four different counties.  When pulling down the data we took the upload and download speeds in kilobits per second from the top three internet providers in each of our four counties.  This data is from 2018 and is in the county_advertised.csv.\n"
   ]
  },
  {
   "cell_type": "code",
   "execution_count": null,
   "metadata": {
    "collapsed": true
   },
   "outputs": [],
   "source": [
    "import pandas as pd\n",
    "import numpy as np\n",
    "import plotnine as p9"
   ]
  },
  {
   "cell_type": "code",
   "execution_count": null,
   "metadata": {
    "collapsed": true
   },
   "outputs": [],
   "source": [
    "maryland = pd.read_csv(\"MD_advertised.csv\")\n",
    "download = pd.read_csv(\"MD_down_county.csv\")\n",
    "upload = pd.read_csv(\"MD_up_county.csv\")\n",
    "nation = pd.read_csv(\"Nationwide Averages.csv\")\n",
    "county_advertised = pd.read_csv(\"county_advertised.csv\")"
   ]
  },
  {
   "cell_type": "code",
   "execution_count": null,
   "metadata": {
    "collapsed": true
   },
   "outputs": [],
   "source": [
    "advertised = maryland[['DBAName', 'MaxAdDown', 'MaxAdUp']].groupby(['DBAName']).agg(['mean'])"
   ]
  },
  {
   "cell_type": "code",
   "execution_count": null,
   "metadata": {
    "collapsed": true
   },
   "outputs": [],
   "source": [
    "county_data= pd.merge(download, upload[['Min_Upload', 'Max_Upload', 'Ave_Upload', 'C0_NAME']], on='C0_NAME') \n",
    "\n",
    "county_data.drop(['SHAPEarea','SHAPElen'], axis=1)"
   ]
  },
  {
   "cell_type": "code",
   "execution_count": null,
   "metadata": {
    "collapsed": true
   },
   "outputs": [],
   "source": [
    "(p9.ggplot(county_data) +\n",
    "    p9.aes(x = 'Ave_Download', y = 'Ave_Upload', fill = 'C0_NAME') +\n",
    "    p9.geom_point(size = 3) + \n",
    "    p9.geom_text(p9.aes(label='C0_NAME'),size = 7) + \n",
    "    p9.ggtitle('Relationship between download and upload speed') +\n",
    "    p9.ylab('Average Upload Speed (in Kilobytes)') +\n",
    "    p9.xlab('Average Download Speed (in Kilobytes)'))"
   ]
  },
  {
   "cell_type": "code",
   "execution_count": null,
   "metadata": {
    "collapsed": true
   },
   "outputs": [],
   "source": [
    "county_advertised_scrape=pd.DataFrame({'county':['Montgomery', \"Prince George's\", 'Carroll', 'Talbot'], 'ADV_AVG_UP':[mont_up, pg_up, carroll_up, talbot_up], 'ADV_AVG_DOWN':[mont_down, pg_down, carroll_down, talbot_down]})\n",
    "county_advertised_scrape"
   ]
  },
  {
   "cell_type": "code",
   "execution_count": null,
   "metadata": {
    "collapsed": true
   },
   "outputs": [],
   "source": [
    "limited_counties= limited_counties.drop([0,1,2,3,4,5, 7,8,9,10,11,12, 13, 14, 17, 18, 19,21, 22,23])\n",
    "limited_counties=limited_counties.reset_index(drop=True)\n",
    "limited_counties\n",
    "merged_counties=limited_counties.merge(county_advertised_scrape, left_on='C0_NAME', right_on='county', how='inner')"
   ]
  },
  {
   "cell_type": "code",
   "execution_count": null,
   "metadata": {
    "collapsed": true
   },
   "outputs": [],
   "source": [
    "merged_counties.plot.bar(x='C0_NAME', y=['Ave_Download', 'ADV_AVG_DOWN'])"
   ]
  },
  {
   "cell_type": "code",
   "execution_count": 1,
   "metadata": {
    "collapsed": true
   },
   "outputs": [],
   "source": [
    "merged_counties.plot.bar(x='C0_NAME', y=['Ave_Upload', 'ADV_AVG_UP'])"
   ]
  },
  {
   "cell_type": "code",
   "execution_count": null,
   "metadata": {
    "collapsed": true
   },
   "outputs": [],
   "source": [
    "merged_counties_long = pd.melt(merged_counties, id_vars='C0_NAME', \n",
    "        value_vars=['Ave_Upload', 'ADV_AVG_UP'], var_name='Upload Type',\n",
    "        value_name='values')"
   ]
  },
  {
   "cell_type": "code",
   "execution_count": null,
   "metadata": {
    "collapsed": true
   },
   "outputs": [],
   "source": [
    "(p9.ggplot(merged_counties_long) + \n",
    "  p9.aes(x='C0_NAME', y='values', fill='Upload Type') +\n",
    "  p9.geom_bar(stat=\"identity\", position='dodge')+\n",
    "  p9.ggtitle('Average Download Speeds by Company') +\n",
    "    p9.ylab('Speed (in Kilobytes)') +\n",
    "    p9.xlab('County Name')\n",
    ")"
   ]
  },
  {
   "cell_type": "code",
   "execution_count": null,
   "metadata": {
    "collapsed": true
   },
   "outputs": [],
   "source": [
    "advertised_filtered=pd.DataFrame({'DBAName':['Comcast','Verizon Maryland LLC','Ting','RCN','Anne Arundel Broadband'], 'MaxAdDown':[272.229702,266.027794,600.5,319.101149,65.825243], 'MaxAdUp':[9.347019,246.318891,600.5,17.844598,5.000000]})"
   ]
  },
  {
   "cell_type": "code",
   "execution_count": null,
   "metadata": {
    "collapsed": true
   },
   "outputs": [],
   "source": [
    "(p9.ggplot(advertised_filtered) + \n",
    "  p9.aes(x='DBAName', y='MaxAdDown', fill='DBAName') +\n",
    "  p9.geom_bar(position='dodge',stat=\"identity\")+\n",
    "  p9.ggtitle('Average Download Speeds by Company') +\n",
    "    p9.ylab('Average Download Speeds (in MB)') +\n",
    "    p9.xlab('Company Name')\n",
    ")"
   ]
  },
  {
   "cell_type": "markdown",
   "metadata": {
    "collapsed": true
   },
   "source": [
    "# Findings  "
   ]
  },
  {
   "cell_type": "markdown",
   "metadata": {
    "collapsed": true
   },
   "source": [
    "   What we found was that there is a significant difference between the speeds that Internet Service Providers advertise and the speeds that their customers actually receive. On average, the speeds across Maryland were about 60 percent slower than what the average advertised speed was. We also found that advertised speeds were also skewed due to many areas offering a gigabit connection, but very few people would utilize these companies. Another interesting finding from this research is that more rural areas would have a slower download and upload speed than more heavily populated areas. Areas such as Prince George’s and Montgomery County were found to have faster speeds than places such as Talbot and Queen Anne’s County. We attributed this speed difference to the difference in population density. Prince George’s and Montgomery County both have a much higher population density than that of Talbot and Queen Anne’s. Due to people to being so spread out in the more rural counties and less reliant on internet than those in the city ISPs may be less inclined to offer a fast internet connection.\n",
    "   \n",
    "The average speed across Maryland was 10.3 megabits per second and 3.1 megabits per second for download and upload speeds respectively. For comparison, the average advertised speed across Maryland was 56.6 megabits per second and 30.2 megabits per second for download and upload speeds respectively. Looking at the differences in counties we found that Prince George’s, Montgomery, Baltimore, Anne Arundle, and Howard County are the top five counties in Maryland with the highest average download and upload speeds. This is not surprising considering these are the most heavily populated areas in Maryland. \n"
   ]
  },
  {
   "cell_type": "markdown",
   "metadata": {},
   "source": [
    "# Conclusion\n",
    "\n",
    "Internet Service Providers in Maryland are advertising unrealistic Internet speeds for their customers. Although they may not be legally obligated to match their advertised speeds, using the “maximum speed” is deceiving. Customers should realize that their actual Internet speed is most likely only a fraction of what they pay for. Most people do not have a dedicated connection, so these slower speeds can be a result of many other local users connecting at the same time. Some customers may have the option of upgrading the type of connection, or even switching to another ISP. However, many ISPs have a stranglehold on the market, which makes it hard for some consumers to find another option.  Users should conduct simple speed tests and check the package they pay for to make sure that they are receiving the minimum guaranteed amount."
   ]
  },
  {
   "cell_type": "code",
   "execution_count": 1,
   "metadata": {
    "collapsed": true
   },
   "outputs": [],
   "source": [
    "#  Data comes from: \n",
    "#  https://www.fcc.gov/general/broadband-deployment-data-fcc-form-477\n",
    "#  https://www.fcc.gov/reports-research/reports/measuring-broadband-america/charts-measuring-broadband-america-2016"
   ]
  }
 ],
 "metadata": {
  "anaconda-cloud": {},
  "kernelspec": {
   "display_name": "Python [default]",
   "language": "python",
   "name": "python3"
  },
  "language_info": {
   "codemirror_mode": {
    "name": "ipython",
    "version": 3
   },
   "file_extension": ".py",
   "mimetype": "text/x-python",
   "name": "python",
   "nbconvert_exporter": "python",
   "pygments_lexer": "ipython3",
   "version": "3.5.2"
  }
 },
 "nbformat": 4,
 "nbformat_minor": 1
}
