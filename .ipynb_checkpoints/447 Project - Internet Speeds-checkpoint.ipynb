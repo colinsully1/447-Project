{
 "cells": [
  {
   "cell_type": "code",
   "execution_count": 1,
   "metadata": {
    "collapsed": true
   },
   "outputs": [],
   "source": [
    "#  Data comes from: \n",
    "#  https://www.fcc.gov/general/broadband-deployment-data-fcc-form-477\n",
    "#  https://www.fcc.gov/reports-research/reports/measuring-broadband-america/charts-measuring-broadband-america-2016"
   ]
  },
  {
   "cell_type": "code",
   "execution_count": 1,
   "metadata": {
    "collapsed": true
   },
   "outputs": [],
   "source": [
    "import pandas as pd\n",
    "import numpy as np\n",
    "import plotnine as p9"
   ]
  },
  {
   "cell_type": "code",
   "execution_count": 11,
   "metadata": {
    "collapsed": true
   },
   "outputs": [],
   "source": [
    "maryland = pd.read_csv(\"MD_advertised.csv\")\n",
    "download = pd.read_csv(\"MD_down_county.csv\")\n",
    "upload = pd.read_csv(\"MD_up_county.csv\")"
   ]
  },
  {
   "cell_type": "code",
   "execution_count": 12,
   "metadata": {
    "collapsed": false
   },
   "outputs": [
    {
     "data": {
      "text/html": [
       "<div>\n",
       "<style scoped>\n",
       "    .dataframe tbody tr th:only-of-type {\n",
       "        vertical-align: middle;\n",
       "    }\n",
       "\n",
       "    .dataframe tbody tr th {\n",
       "        vertical-align: top;\n",
       "    }\n",
       "\n",
       "    .dataframe thead th {\n",
       "        text-align: right;\n",
       "    }\n",
       "</style>\n",
       "<table border=\"1\" class=\"dataframe\">\n",
       "  <thead>\n",
       "    <tr style=\"text-align: right;\">\n",
       "      <th></th>\n",
       "      <th>DBAName</th>\n",
       "      <th>MaxAdDown</th>\n",
       "      <th>MaxAdUp</th>\n",
       "    </tr>\n",
       "  </thead>\n",
       "  <tbody>\n",
       "    <tr>\n",
       "      <th>0</th>\n",
       "      <td>Global Telecom Brokers</td>\n",
       "      <td>0.0</td>\n",
       "      <td>0.0</td>\n",
       "    </tr>\n",
       "    <tr>\n",
       "      <th>1</th>\n",
       "      <td>Global Telecom Brokers</td>\n",
       "      <td>0.0</td>\n",
       "      <td>0.0</td>\n",
       "    </tr>\n",
       "    <tr>\n",
       "      <th>2</th>\n",
       "      <td>Global Telecom Brokers</td>\n",
       "      <td>0.0</td>\n",
       "      <td>0.0</td>\n",
       "    </tr>\n",
       "    <tr>\n",
       "      <th>3</th>\n",
       "      <td>Global Telecom Brokers</td>\n",
       "      <td>0.0</td>\n",
       "      <td>0.0</td>\n",
       "    </tr>\n",
       "    <tr>\n",
       "      <th>4</th>\n",
       "      <td>Global Telecom Brokers</td>\n",
       "      <td>0.0</td>\n",
       "      <td>0.0</td>\n",
       "    </tr>\n",
       "  </tbody>\n",
       "</table>\n",
       "</div>"
      ],
      "text/plain": [
       "                  DBAName  MaxAdDown  MaxAdUp\n",
       "0  Global Telecom Brokers        0.0      0.0\n",
       "1  Global Telecom Brokers        0.0      0.0\n",
       "2  Global Telecom Brokers        0.0      0.0\n",
       "3  Global Telecom Brokers        0.0      0.0\n",
       "4  Global Telecom Brokers        0.0      0.0"
      ]
     },
     "execution_count": 12,
     "metadata": {},
     "output_type": "execute_result"
    }
   ],
   "source": [
    "maryland.head()"
   ]
  },
  {
   "cell_type": "code",
   "execution_count": 13,
   "metadata": {
    "collapsed": true
   },
   "outputs": [],
   "source": [
    "advertised = maryland[['DBAName', 'MaxAdDown', 'MaxAdUp']].groupby(['DBAName']).agg(['mean'])"
   ]
  },
  {
   "cell_type": "code",
   "execution_count": 19,
   "metadata": {
    "collapsed": false
   },
   "outputs": [
    {
     "data": {
      "text/html": [
       "<div>\n",
       "<style scoped>\n",
       "    .dataframe tbody tr th:only-of-type {\n",
       "        vertical-align: middle;\n",
       "    }\n",
       "\n",
       "    .dataframe tbody tr th {\n",
       "        vertical-align: top;\n",
       "    }\n",
       "\n",
       "    .dataframe thead tr th {\n",
       "        text-align: left;\n",
       "    }\n",
       "\n",
       "    .dataframe thead tr:last-of-type th {\n",
       "        text-align: right;\n",
       "    }\n",
       "</style>\n",
       "<table border=\"1\" class=\"dataframe\">\n",
       "  <thead>\n",
       "    <tr>\n",
       "      <th></th>\n",
       "      <th>MaxAdDown</th>\n",
       "      <th>MaxAdUp</th>\n",
       "    </tr>\n",
       "    <tr>\n",
       "      <th></th>\n",
       "      <th>mean</th>\n",
       "      <th>mean</th>\n",
       "    </tr>\n",
       "    <tr>\n",
       "      <th>DBAName</th>\n",
       "      <th></th>\n",
       "      <th></th>\n",
       "    </tr>\n",
       "  </thead>\n",
       "  <tbody>\n",
       "    <tr>\n",
       "      <th>24/7 Mid-Atlantic Network</th>\n",
       "      <td>0.0</td>\n",
       "      <td>0.0</td>\n",
       "    </tr>\n",
       "    <tr>\n",
       "      <th>ALTIUS Broadband</th>\n",
       "      <td>50.0</td>\n",
       "      <td>50.0</td>\n",
       "    </tr>\n",
       "    <tr>\n",
       "      <th>Access One, Inc.</th>\n",
       "      <td>0.0</td>\n",
       "      <td>0.0</td>\n",
       "    </tr>\n",
       "    <tr>\n",
       "      <th>All Points Broadband</th>\n",
       "      <td>15.0</td>\n",
       "      <td>4.0</td>\n",
       "    </tr>\n",
       "    <tr>\n",
       "      <th>Allied Telecom Group LLC</th>\n",
       "      <td>0.0</td>\n",
       "      <td>0.0</td>\n",
       "    </tr>\n",
       "  </tbody>\n",
       "</table>\n",
       "</div>"
      ],
      "text/plain": [
       "                          MaxAdDown MaxAdUp\n",
       "                               mean    mean\n",
       "DBAName                                    \n",
       "24/7 Mid-Atlantic Network       0.0     0.0\n",
       "ALTIUS Broadband               50.0    50.0\n",
       "Access One, Inc.                0.0     0.0\n",
       "All Points Broadband           15.0     4.0\n",
       "Allied Telecom Group LLC        0.0     0.0"
      ]
     },
     "execution_count": 19,
     "metadata": {},
     "output_type": "execute_result"
    }
   ],
   "source": [
    "advertised.head()"
   ]
  },
  {
   "cell_type": "code",
   "execution_count": 6,
   "metadata": {
    "collapsed": false
   },
   "outputs": [
    {
     "data": {
      "text/html": [
       "<div>\n",
       "<style scoped>\n",
       "    .dataframe tbody tr th:only-of-type {\n",
       "        vertical-align: middle;\n",
       "    }\n",
       "\n",
       "    .dataframe tbody tr th {\n",
       "        vertical-align: top;\n",
       "    }\n",
       "\n",
       "    .dataframe thead th {\n",
       "        text-align: right;\n",
       "    }\n",
       "</style>\n",
       "<table border=\"1\" class=\"dataframe\">\n",
       "  <thead>\n",
       "    <tr style=\"text-align: right;\">\n",
       "      <th></th>\n",
       "      <th>OBJECTID</th>\n",
       "      <th>C0_NAME</th>\n",
       "      <th>Cnt_C0_NAME</th>\n",
       "      <th>Min_Download</th>\n",
       "      <th>Max_Download</th>\n",
       "      <th>Ave_Download</th>\n",
       "      <th>SHAPEarea</th>\n",
       "      <th>SHAPElen</th>\n",
       "    </tr>\n",
       "  </thead>\n",
       "  <tbody>\n",
       "    <tr>\n",
       "      <th>0</th>\n",
       "      <td>1</td>\n",
       "      <td>Allegany</td>\n",
       "      <td>383</td>\n",
       "      <td>0</td>\n",
       "      <td>225930</td>\n",
       "      <td>8696.577023</td>\n",
       "      <td>1.824785e+09</td>\n",
       "      <td>4.671261e+05</td>\n",
       "    </tr>\n",
       "    <tr>\n",
       "      <th>1</th>\n",
       "      <td>2</td>\n",
       "      <td>Anne Arundel</td>\n",
       "      <td>1904</td>\n",
       "      <td>0</td>\n",
       "      <td>208803</td>\n",
       "      <td>16184.321429</td>\n",
       "      <td>1.778026e+09</td>\n",
       "      <td>1.254422e+06</td>\n",
       "    </tr>\n",
       "    <tr>\n",
       "      <th>2</th>\n",
       "      <td>3</td>\n",
       "      <td>Baltimore</td>\n",
       "      <td>2610</td>\n",
       "      <td>0</td>\n",
       "      <td>262450</td>\n",
       "      <td>18535.531801</td>\n",
       "      <td>2.608355e+09</td>\n",
       "      <td>1.183828e+06</td>\n",
       "    </tr>\n",
       "    <tr>\n",
       "      <th>3</th>\n",
       "      <td>4</td>\n",
       "      <td>Baltimore City</td>\n",
       "      <td>1955</td>\n",
       "      <td>27</td>\n",
       "      <td>175997</td>\n",
       "      <td>11553.283887</td>\n",
       "      <td>3.513710e+08</td>\n",
       "      <td>2.510998e+05</td>\n",
       "    </tr>\n",
       "    <tr>\n",
       "      <th>4</th>\n",
       "      <td>5</td>\n",
       "      <td>Calvert</td>\n",
       "      <td>319</td>\n",
       "      <td>47</td>\n",
       "      <td>54814</td>\n",
       "      <td>12195.250784</td>\n",
       "      <td>9.087738e+08</td>\n",
       "      <td>4.525549e+05</td>\n",
       "    </tr>\n",
       "  </tbody>\n",
       "</table>\n",
       "</div>"
      ],
      "text/plain": [
       "   OBJECTID         C0_NAME  Cnt_C0_NAME  Min_Download  Max_Download  \\\n",
       "0         1        Allegany          383             0        225930   \n",
       "1         2    Anne Arundel         1904             0        208803   \n",
       "2         3       Baltimore         2610             0        262450   \n",
       "3         4  Baltimore City         1955            27        175997   \n",
       "4         5         Calvert          319            47         54814   \n",
       "\n",
       "   Ave_Download     SHAPEarea      SHAPElen  \n",
       "0   8696.577023  1.824785e+09  4.671261e+05  \n",
       "1  16184.321429  1.778026e+09  1.254422e+06  \n",
       "2  18535.531801  2.608355e+09  1.183828e+06  \n",
       "3  11553.283887  3.513710e+08  2.510998e+05  \n",
       "4  12195.250784  9.087738e+08  4.525549e+05  "
      ]
     },
     "execution_count": 6,
     "metadata": {},
     "output_type": "execute_result"
    }
   ],
   "source": [
    "download.head()"
   ]
  },
  {
   "cell_type": "code",
   "execution_count": 7,
   "metadata": {
    "collapsed": false
   },
   "outputs": [
    {
     "data": {
      "text/html": [
       "<div>\n",
       "<style scoped>\n",
       "    .dataframe tbody tr th:only-of-type {\n",
       "        vertical-align: middle;\n",
       "    }\n",
       "\n",
       "    .dataframe tbody tr th {\n",
       "        vertical-align: top;\n",
       "    }\n",
       "\n",
       "    .dataframe thead th {\n",
       "        text-align: right;\n",
       "    }\n",
       "</style>\n",
       "<table border=\"1\" class=\"dataframe\">\n",
       "  <thead>\n",
       "    <tr style=\"text-align: right;\">\n",
       "      <th></th>\n",
       "      <th>OBJECTID</th>\n",
       "      <th>C0_NAME</th>\n",
       "      <th>Cnt_C0_NAME</th>\n",
       "      <th>Min_Upload</th>\n",
       "      <th>Max_Upload</th>\n",
       "      <th>Ave_Upload</th>\n",
       "      <th>SHAPEarea</th>\n",
       "      <th>SHAPElen</th>\n",
       "    </tr>\n",
       "  </thead>\n",
       "  <tbody>\n",
       "    <tr>\n",
       "      <th>0</th>\n",
       "      <td>1</td>\n",
       "      <td>Allegany</td>\n",
       "      <td>383</td>\n",
       "      <td>34</td>\n",
       "      <td>38015</td>\n",
       "      <td>2683.971279</td>\n",
       "      <td>1.824785e+09</td>\n",
       "      <td>4.671261e+05</td>\n",
       "    </tr>\n",
       "    <tr>\n",
       "      <th>1</th>\n",
       "      <td>2</td>\n",
       "      <td>Anne Arundel</td>\n",
       "      <td>1904</td>\n",
       "      <td>46</td>\n",
       "      <td>71204</td>\n",
       "      <td>5996.515756</td>\n",
       "      <td>1.778026e+09</td>\n",
       "      <td>1.254422e+06</td>\n",
       "    </tr>\n",
       "    <tr>\n",
       "      <th>2</th>\n",
       "      <td>3</td>\n",
       "      <td>Baltimore</td>\n",
       "      <td>2610</td>\n",
       "      <td>49</td>\n",
       "      <td>216038</td>\n",
       "      <td>5613.704981</td>\n",
       "      <td>2.608355e+09</td>\n",
       "      <td>1.183828e+06</td>\n",
       "    </tr>\n",
       "    <tr>\n",
       "      <th>3</th>\n",
       "      <td>4</td>\n",
       "      <td>Baltimore City</td>\n",
       "      <td>1955</td>\n",
       "      <td>5</td>\n",
       "      <td>84693</td>\n",
       "      <td>3227.357545</td>\n",
       "      <td>3.513710e+08</td>\n",
       "      <td>2.510998e+05</td>\n",
       "    </tr>\n",
       "    <tr>\n",
       "      <th>4</th>\n",
       "      <td>5</td>\n",
       "      <td>Calvert</td>\n",
       "      <td>319</td>\n",
       "      <td>50</td>\n",
       "      <td>11656</td>\n",
       "      <td>2883.808777</td>\n",
       "      <td>9.087738e+08</td>\n",
       "      <td>4.525549e+05</td>\n",
       "    </tr>\n",
       "  </tbody>\n",
       "</table>\n",
       "</div>"
      ],
      "text/plain": [
       "   OBJECTID         C0_NAME  Cnt_C0_NAME  Min_Upload  Max_Upload   Ave_Upload  \\\n",
       "0         1        Allegany          383          34       38015  2683.971279   \n",
       "1         2    Anne Arundel         1904          46       71204  5996.515756   \n",
       "2         3       Baltimore         2610          49      216038  5613.704981   \n",
       "3         4  Baltimore City         1955           5       84693  3227.357545   \n",
       "4         5         Calvert          319          50       11656  2883.808777   \n",
       "\n",
       "      SHAPEarea      SHAPElen  \n",
       "0  1.824785e+09  4.671261e+05  \n",
       "1  1.778026e+09  1.254422e+06  \n",
       "2  2.608355e+09  1.183828e+06  \n",
       "3  3.513710e+08  2.510998e+05  \n",
       "4  9.087738e+08  4.525549e+05  "
      ]
     },
     "execution_count": 7,
     "metadata": {},
     "output_type": "execute_result"
    }
   ],
   "source": [
    "upload.head()"
   ]
  },
  {
   "cell_type": "code",
   "execution_count": null,
   "metadata": {
    "collapsed": true
   },
   "outputs": [],
   "source": [
    "test = "
   ]
  }
 ],
 "metadata": {
  "anaconda-cloud": {},
  "kernelspec": {
   "display_name": "Python [default]",
   "language": "python",
   "name": "python3"
  },
  "language_info": {
   "codemirror_mode": {
    "name": "ipython",
    "version": 3
   },
   "file_extension": ".py",
   "mimetype": "text/x-python",
   "name": "python",
   "nbconvert_exporter": "python",
   "pygments_lexer": "ipython3",
   "version": "3.5.2"
  }
 },
 "nbformat": 4,
 "nbformat_minor": 1
}
